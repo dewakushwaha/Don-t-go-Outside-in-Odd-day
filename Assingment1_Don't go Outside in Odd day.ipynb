{
 "cells": [
  {
   "cell_type": "code",
   "execution_count": 1,
   "id": "b2b35325",
   "metadata": {},
   "outputs": [],
   "source": [
    "#  count the number of even and odd numbers from a series of numbers."
   ]
  },
  {
   "cell_type": "code",
   "execution_count": 2,
   "id": "6455bbe8",
   "metadata": {},
   "outputs": [
    {
     "name": "stdout",
     "output_type": "stream",
     "text": [
      "Number of even numbers:  4\n",
      "Number of odd numbers :  5\n"
     ]
    }
   ],
   "source": [
    "l = [1,2,3,4,5,6,7,8,9]\n",
    "even = 0\n",
    "odd = 0\n",
    "for i in l:\n",
    "    \n",
    "    if i % 2 == 0:\n",
    "        even += 1\n",
    "        \n",
    "    else:\n",
    "        odd += 1\n",
    "        \n",
    "print('Number of even numbers: ',even)\n",
    "print('Number of odd numbers : ',odd)"
   ]
  },
  {
   "cell_type": "code",
   "execution_count": null,
   "id": "c3038f4d",
   "metadata": {},
   "outputs": [],
   "source": []
  }
 ],
 "metadata": {
  "kernelspec": {
   "display_name": "Python 3 (ipykernel)",
   "language": "python",
   "name": "python3"
  },
  "language_info": {
   "codemirror_mode": {
    "name": "ipython",
    "version": 3
   },
   "file_extension": ".py",
   "mimetype": "text/x-python",
   "name": "python",
   "nbconvert_exporter": "python",
   "pygments_lexer": "ipython3",
   "version": "3.9.7"
  }
 },
 "nbformat": 4,
 "nbformat_minor": 5
}
